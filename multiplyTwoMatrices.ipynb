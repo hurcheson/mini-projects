{
 "cells": [
  {
   "cell_type": "markdown",
   "id": "acb53a72-73da-4d41-9617-0d788058f4e4",
   "metadata": {},
   "source": [
    "# This notebook is to help me build a function for multiplying two given matrices"
   ]
  },
  {
   "cell_type": "code",
   "execution_count": 2,
   "id": "3e016f48-0938-421e-99d4-122f5f11d219",
   "metadata": {},
   "outputs": [],
   "source": [
    "# Define the function\n",
    "def multiplyTwoMatrices(A, B):\n",
    "    # Checking if the two matrices can be multiplied\n",
    "    if len(A[0]) != len(B):\n",
    "        raise ValueError(\"The number of Columns of Matrix A does not match the number of rows of matrix B\")\n",
    "        Break\n",
    "\n",
    "    # Get the dimensions\n",
    "    rows_A = len(A)\n",
    "    cols_B = len(B[0])\n",
    "    cols_A = len(A[0]) # This is the same for the rows of B\n",
    "\n",
    "    # initialize the resulting matrix with zeros\n",
    "    results = [[0 for _ in range(cols_A)] for _ in range(rows_A)]\n",
    "\n",
    "    # Matrix multiplication\n",
    "    for i in range(rows_A):\n",
    "        for j in range(cols_B):\n",
    "            results[i][j] = sum(A[i][k] * B[k][j] for k in range(cols_A))\n",
    "\n",
    "    return results\n",
    "\n"
   ]
  },
  {
   "cell_type": "code",
   "execution_count": 16,
   "id": "b9e526ea-0b3b-42e0-bded-4106f5bbb836",
   "metadata": {},
   "outputs": [
    {
     "data": {
      "text/plain": [
       "[[1, 2, 3], [-2, 3, 7]]"
      ]
     },
     "execution_count": 16,
     "metadata": {},
     "output_type": "execute_result"
    }
   ],
   "source": [
    "m1 = [[1, 2, 3], [-2, 3, 7]]\n",
    "m2 = [[1,0,0],[0,1,0],[0,0,1]]\n",
    "\n",
    "multiplyTwoMatrices(m1, m2)"
   ]
  },
  {
   "cell_type": "code",
   "execution_count": null,
   "id": "1cdb7cb8-d8bf-4591-878a-af190108fa22",
   "metadata": {},
   "outputs": [],
   "source": []
  }
 ],
 "metadata": {
  "kernelspec": {
   "display_name": "Python [conda env:base] *",
   "language": "python",
   "name": "conda-base-py"
  },
  "language_info": {
   "codemirror_mode": {
    "name": "ipython",
    "version": 3
   },
   "file_extension": ".py",
   "mimetype": "text/x-python",
   "name": "python",
   "nbconvert_exporter": "python",
   "pygments_lexer": "ipython3",
   "version": "3.12.7"
  }
 },
 "nbformat": 4,
 "nbformat_minor": 5
}
